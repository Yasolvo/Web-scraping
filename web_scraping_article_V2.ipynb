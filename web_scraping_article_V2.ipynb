{
  "nbformat": 4,
  "nbformat_minor": 0,
  "metadata": {
    "colab": {
      "name": "web scraping article V2.ipynb",
      "provenance": [],
      "collapsed_sections": [],
      "authorship_tag": "ABX9TyOLfZ55b9qldKA9owZlo6ME",
      "include_colab_link": true
    },
    "kernelspec": {
      "name": "python3",
      "display_name": "Python 3"
    },
    "language_info": {
      "name": "python"
    }
  },
  "cells": [
    {
      "cell_type": "markdown",
      "metadata": {
        "id": "view-in-github",
        "colab_type": "text"
      },
      "source": [
        "<a href=\"https://colab.research.google.com/github/Yasolvo/Web-scraping/blob/main/web_scraping_article_V2.ipynb\" target=\"_parent\"><img src=\"https://colab.research.google.com/assets/colab-badge.svg\" alt=\"Open In Colab\"/></a>"
      ]
    },
    {
      "cell_type": "code",
      "metadata": {
        "id": "-Ao2CTQMYBpL"
      },
      "source": [
        "pip install newspaper3k"
      ],
      "execution_count": null,
      "outputs": []
    },
    {
      "cell_type": "code",
      "metadata": {
        "id": "7urN9XHtYKwd"
      },
      "source": [
        "# Importer les packages\n",
        "import nltk\n",
        "from newspaper import Article\n",
        "import pandas as pd"
      ],
      "execution_count": null,
      "outputs": []
    },
    {
      "cell_type": "code",
      "metadata": {
        "colab": {
          "base_uri": "https://localhost:8080/"
        },
        "id": "4OhlVnsCYXYY",
        "outputId": "07d27b1d-a0e2-4708-ea1e-5cc960ddad39"
      },
      "source": [
        "# Spécifier les articles qui m'intéressent\n",
        "urls=[\"https://www.20minutes.fr/sante/3022691-20210416-covid-19-google-annonce-mesures-aider-campagnes-vaccination-monde\",\n",
        "     \"https://www.20minutes.fr/high-tech/3022707-20210416-whatsapp-deux-failles-securite-exposent-telephone-attaque-phishing\",\n",
        "     \"https://www.20minutes.fr/high-tech/3020183-20210415-echo-show-10-faut-avoir-peur-camera-suivi-nouvelle-enceinte-connectee-amazon\",\n",
        "     \"https://www.20minutes.fr/high-tech/3021771-20210415-millions-objets-connectes-affectes-graves-failles-securite\"\n",
        "     ]\n",
        "\n",
        "def url_text(url):\n",
        "  article=Article(url)\n",
        "  article.download()\n",
        "  article.parse()\n",
        "  titre=article.title\n",
        "  text=article.text\n",
        "  auteur=article.authors\n",
        "  print(url)\n",
        "  return titre, auteur, text\n",
        "\n",
        "texts= [url_text(url) for url in urls]"
      ],
      "execution_count": null,
      "outputs": [
        {
          "output_type": "stream",
          "text": [
            "https://www.20minutes.fr/sante/3022691-20210416-covid-19-google-annonce-mesures-aider-campagnes-vaccination-monde\n",
            "https://www.20minutes.fr/high-tech/3022707-20210416-whatsapp-deux-failles-securite-exposent-telephone-attaque-phishing\n",
            "https://www.20minutes.fr/high-tech/3020183-20210415-echo-show-10-faut-avoir-peur-camera-suivi-nouvelle-enceinte-connectee-amazon\n",
            "https://www.20minutes.fr/high-tech/3021771-20210415-millions-objets-connectes-affectes-graves-failles-securite\n"
          ],
          "name": "stdout"
        }
      ]
    },
    {
      "cell_type": "code",
      "metadata": {
        "colab": {
          "base_uri": "https://localhost:8080/"
        },
        "id": "zUGIUiPSZVkA",
        "outputId": "4fc20e34-9284-4af6-d26c-3a66baccb0b0"
      },
      "source": [
        "texts[0]"
      ],
      "execution_count": null,
      "outputs": [
        {
          "output_type": "execute_result",
          "data": {
            "text/plain": [
              "('Covid-19 : Google annonce des mesures pour aider les campagnes de vaccination dans le monde',\n",
              " ['Minutes Avec Agences'],\n",
              " \"MESURES La firme californienne a mis au point un outil pour aider les personnes qui n'ont pas ou peu accès à Internet\\n\\nLe logo de Google. — Michel Euler/AP/SIPA\\n\\nGoogle a annoncé ce jeudi une série de dons financiers et de mesures pour aider les campagnes de vaccination aux Etats-Unis et dans le monde. Celle-ci comprennent un « agent virtuel » pour orienter les personnes qui n’ont pas ou peu accès à Internet.\\n\\nAccessible par texto, chat en ligne ou téléphone, il doit permettre de prendre rendez-vous pour se faire vacciner ou de poser des questions basiques sur son éligibilité, dans 28 langues différentes. La branche de cloud (informatique à distance) du géant des technologies a mis au point cet outil avant tout pour « les personnes ayant un accès limité à Internet », explique un communiqué.\\n\\nThree ways we’re helping make sure everyone who wants to get the COVID-19 vaccine can:\\n\\n💉 Providing 250K vaccines to countries in need\\n\\n💉 Funding pop-up vaccine sites in the U.S.\\n\\n💉 $250M more in Ad Grants to connect people to accurate info https://t.co/TfAguczyvl — Google (@Google) April 15, 2021\\n\\nVenir en aide à la population défavorisée\\n\\nGoogle affirme vouloir faciliter la vaccination des communautés défavorisées en termes d’accès à la santé. La firme californienne a promis de fournir 250.000 doses de vaccins aux pays dans le besoin, d’aider à financer des sites temporaires de vaccination aux Etats-Unis et d’accorder 250 millions de dollars en subventions publicitaires pour aider des gouvernements et organisations de santé, y compris l’Organisation mondiale de la Santé (OMS) à communiquer sur les campagnes en cours.\\n\\n« Aux Etats-Unis, le Covid-19 a affecté de façon disproportionnée les populations afro-américaines et hispaniques, et pourtant ces groupes ont des taux de vaccination moins élevés », note le groupe. Google s’inquiète aussi qu’ailleurs dans le monde, « il va sûrement falloir des années pour que certains pays aient suffisamment de vaccins ».\\n\\nPlusieurs grandes entreprises technologiques ont annoncé des efforts similaires. Amazon, Uber et Facebook ont mis à disposition des ressources ou déployé des outils numériques pour aider les campagnes de vaccination. « Comme nous l’avons vu pendant la pandémie, personne n’est protégé du Covid-19 tant que tout le monde ne l’est pas », souligne Google. Aux Etats-Unis, au Canada, au Chili, en France, en Inde et à Singapour, Google Maps permet désormais de trouver des établissements qui vaccinent.\")"
            ]
          },
          "metadata": {
            "tags": []
          },
          "execution_count": 10
        }
      ]
    },
    {
      "cell_type": "code",
      "metadata": {
        "colab": {
          "base_uri": "https://localhost:8080/",
          "height": 173
        },
        "id": "Up0cv--PbZX8",
        "outputId": "b1840435-1893-41e8-c48c-f2ab45df4671"
      },
      "source": [
        "columns_nom=['titre','auteur','texte']\n",
        "df=pd.DataFrame(data=texts,columns=columns_nom)\n",
        "df"
      ],
      "execution_count": null,
      "outputs": [
        {
          "output_type": "execute_result",
          "data": {
            "text/html": [
              "<div>\n",
              "<style scoped>\n",
              "    .dataframe tbody tr th:only-of-type {\n",
              "        vertical-align: middle;\n",
              "    }\n",
              "\n",
              "    .dataframe tbody tr th {\n",
              "        vertical-align: top;\n",
              "    }\n",
              "\n",
              "    .dataframe thead th {\n",
              "        text-align: right;\n",
              "    }\n",
              "</style>\n",
              "<table border=\"1\" class=\"dataframe\">\n",
              "  <thead>\n",
              "    <tr style=\"text-align: right;\">\n",
              "      <th></th>\n",
              "      <th>titre</th>\n",
              "      <th>auteur</th>\n",
              "      <th>texte</th>\n",
              "    </tr>\n",
              "  </thead>\n",
              "  <tbody>\n",
              "    <tr>\n",
              "      <th>0</th>\n",
              "      <td>Covid-19 : Google annonce des mesures pour aid...</td>\n",
              "      <td>[Minutes Avec Agences]</td>\n",
              "      <td>MESURES La firme californienne a mis au point ...</td>\n",
              "    </tr>\n",
              "    <tr>\n",
              "      <th>1</th>\n",
              "      <td>WhatsApp : Deux failles de sécurité exposent v...</td>\n",
              "      <td>[Minutes Avec Agence]</td>\n",
              "      <td>PHISHING La menace se transmet par une pièce j...</td>\n",
              "    </tr>\n",
              "    <tr>\n",
              "      <th>2</th>\n",
              "      <td>Echo Show 10: Faut-il avoir peur de la caméra ...</td>\n",
              "      <td>[Christophe Séfrin]</td>\n",
              "      <td>OBJETS CONNECTES La nouvelle enceinte intellig...</td>\n",
              "    </tr>\n",
              "    <tr>\n",
              "      <th>3</th>\n",
              "      <td>Des millions d'objets connectés seraient affec...</td>\n",
              "      <td>[Minutes Avec Agence]</td>\n",
              "      <td>DANGER Selon les chercheurs en sécurité qui so...</td>\n",
              "    </tr>\n",
              "  </tbody>\n",
              "</table>\n",
              "</div>"
            ],
            "text/plain": [
              "                                               titre  ...                                              texte\n",
              "0  Covid-19 : Google annonce des mesures pour aid...  ...  MESURES La firme californienne a mis au point ...\n",
              "1  WhatsApp : Deux failles de sécurité exposent v...  ...  PHISHING La menace se transmet par une pièce j...\n",
              "2  Echo Show 10: Faut-il avoir peur de la caméra ...  ...  OBJETS CONNECTES La nouvelle enceinte intellig...\n",
              "3  Des millions d'objets connectés seraient affec...  ...  DANGER Selon les chercheurs en sécurité qui so...\n",
              "\n",
              "[4 rows x 3 columns]"
            ]
          },
          "metadata": {
            "tags": []
          },
          "execution_count": 12
        }
      ]
    },
    {
      "cell_type": "code",
      "metadata": {
        "id": "eDcoBg5hcSGT"
      },
      "source": [
        ""
      ],
      "execution_count": null,
      "outputs": []
    }
  ]
}