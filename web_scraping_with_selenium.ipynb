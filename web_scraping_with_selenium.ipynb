{
  "nbformat": 4,
  "nbformat_minor": 0,
  "metadata": {
    "colab": {
      "name": "web scraping with selenium.ipynb",
      "provenance": [],
      "collapsed_sections": [],
      "authorship_tag": "ABX9TyNiZheDvnAVvmctwjc80oQX",
      "include_colab_link": true
    },
    "kernelspec": {
      "name": "python3",
      "display_name": "Python 3"
    },
    "language_info": {
      "name": "python"
    }
  },
  "cells": [
    {
      "cell_type": "markdown",
      "metadata": {
        "id": "view-in-github",
        "colab_type": "text"
      },
      "source": [
        "<a href=\"https://colab.research.google.com/github/Yasolvo/Web-scraping/blob/main/web_scraping_with_selenium.ipynb\" target=\"_parent\"><img src=\"https://colab.research.google.com/assets/colab-badge.svg\" alt=\"Open In Colab\"/></a>"
      ]
    },
    {
      "cell_type": "code",
      "metadata": {
        "id": "dbAguYTLcrLy"
      },
      "source": [
        "# installer selenium et le chromedriver\n",
        "!apt install chromium-chromedriver\n",
        "!cp /usr/lib/chromium-browser/chromedriver /usr/bin\n",
        "!pip install selenium\n",
        "!pip install builtwith\n",
        "!pip install python-whois"
      ],
      "execution_count": null,
      "outputs": []
    },
    {
      "cell_type": "code",
      "metadata": {
        "id": "aGrrx9CqfA_Z"
      },
      "source": [
        "from selenium import webdriver\n",
        "import pandas as pd\n",
        "import builtwith\n",
        "import whois\n",
        "options=webdriver.ChromeOptions()\n",
        "options.add_argument('-headless')\n",
        "options.add_argument('-no-sandbox')\n",
        "options.add_argument('-disable-dev-shm-usage')"
      ],
      "execution_count": null,
      "outputs": []
    },
    {
      "cell_type": "code",
      "metadata": {
        "colab": {
          "base_uri": "https://localhost:8080/"
        },
        "id": "NiIUcYSXmZEV",
        "outputId": "14bf1562-c3f4-4295-b8b9-cabaae079290"
      },
      "source": [
        "# Saisir l'url\n",
        "url =\"https://www.youtube.com/channel/UCiDy_8ig36GuMQ1FCYIv_6w/videos\"\n",
        "# chercher les technologies du site\n",
        "builtwithsite=builtwith.parse(url)\n",
        "builtwithsite"
      ],
      "execution_count": null,
      "outputs": [
        {
          "output_type": "execute_result",
          "data": {
            "text/plain": [
              "{'font-scripts': ['Google Font API'],\n",
              " 'javascript-graphics': ['Javascript Infovis Toolkit']}"
            ]
          },
          "metadata": {
            "tags": []
          },
          "execution_count": 7
        }
      ]
    },
    {
      "cell_type": "code",
      "metadata": {
        "colab": {
          "base_uri": "https://localhost:8080/"
        },
        "id": "ZbsKD0wQoFhT",
        "outputId": "a28e5253-5bcc-4d12-dbb1-e370d0a69f02"
      },
      "source": [
        "whois.whois(url)"
      ],
      "execution_count": null,
      "outputs": [
        {
          "output_type": "execute_result",
          "data": {
            "text/plain": [
              "{'address': None,\n",
              " 'city': None,\n",
              " 'country': 'US',\n",
              " 'creation_date': [datetime.datetime(2005, 2, 15, 5, 13, 12),\n",
              "  datetime.datetime(2005, 2, 14, 21, 13, 12)],\n",
              " 'dnssec': 'unsigned',\n",
              " 'domain_name': ['YOUTUBE.COM', 'youtube.com'],\n",
              " 'emails': ['abusecomplaints@markmonitor.com', 'whoisrequest@markmonitor.com'],\n",
              " 'expiration_date': [datetime.datetime(2022, 2, 15, 5, 13, 12),\n",
              "  datetime.datetime(2022, 2, 14, 0, 0)],\n",
              " 'name': None,\n",
              " 'name_servers': ['NS1.GOOGLE.COM',\n",
              "  'NS2.GOOGLE.COM',\n",
              "  'NS3.GOOGLE.COM',\n",
              "  'NS4.GOOGLE.COM',\n",
              "  'ns2.google.com',\n",
              "  'ns4.google.com',\n",
              "  'ns1.google.com',\n",
              "  'ns3.google.com'],\n",
              " 'org': 'Google LLC',\n",
              " 'referral_url': None,\n",
              " 'registrar': 'MarkMonitor, Inc.',\n",
              " 'state': 'CA',\n",
              " 'status': ['clientDeleteProhibited https://icann.org/epp#clientDeleteProhibited',\n",
              "  'clientTransferProhibited https://icann.org/epp#clientTransferProhibited',\n",
              "  'clientUpdateProhibited https://icann.org/epp#clientUpdateProhibited',\n",
              "  'serverDeleteProhibited https://icann.org/epp#serverDeleteProhibited',\n",
              "  'serverTransferProhibited https://icann.org/epp#serverTransferProhibited',\n",
              "  'serverUpdateProhibited https://icann.org/epp#serverUpdateProhibited',\n",
              "  'clientUpdateProhibited (https://www.icann.org/epp#clientUpdateProhibited)',\n",
              "  'clientTransferProhibited (https://www.icann.org/epp#clientTransferProhibited)',\n",
              "  'clientDeleteProhibited (https://www.icann.org/epp#clientDeleteProhibited)',\n",
              "  'serverUpdateProhibited (https://www.icann.org/epp#serverUpdateProhibited)',\n",
              "  'serverTransferProhibited (https://www.icann.org/epp#serverTransferProhibited)',\n",
              "  'serverDeleteProhibited (https://www.icann.org/epp#serverDeleteProhibited)'],\n",
              " 'updated_date': [datetime.datetime(2021, 1, 14, 10, 36, 28),\n",
              "  datetime.datetime(2021, 1, 14, 2, 36, 28)],\n",
              " 'whois_server': 'whois.markmonitor.com',\n",
              " 'zipcode': None}"
            ]
          },
          "metadata": {
            "tags": []
          },
          "execution_count": 8
        }
      ]
    },
    {
      "cell_type": "code",
      "metadata": {
        "id": "JvWwpQl9gIM0"
      },
      "source": [
        "driver=webdriver.Chrome('chromedriver',options=options)\n",
        "driver.get(\"https://www.youtube.com/channel/UCiDy_8ig36GuMQ1FCYIv_6w/videos\")"
      ],
      "execution_count": null,
      "outputs": []
    },
    {
      "cell_type": "code",
      "metadata": {
        "id": "2ZGry7iN6BzT"
      },
      "source": [
        "chaine_titre=driver.find_elements_by_xpath('//*[@id=\"video-title\"]')\n",
        "chaine_vue=driver.find_elements_by_xpath('//*[@id=\"metadata-line\"]/span[1]')\n",
        "chaine_date=driver.find_elements_by_xpath('//*[@id=\"metadata-line\"]/span[2]')\n",
        "\n",
        "videos=[]\n",
        "for i in range(len(chaine_titre)):\n",
        "  videos_info={}\n",
        "  videos_info[\"titre\"]= chaine_titre[i].text\n",
        "  videos_info[\"vue\"]= chaine_vue[i].text\n",
        "  videos_info[\"date\"]= chaine_date[i].text\n",
        "  videos.append(videos_info)\n",
        "\n",
        "  \n",
        "df=pd.DataFrame(videos,columns=[\"titre\",\"vue\",\"date\"])"
      ],
      "execution_count": null,
      "outputs": []
    },
    {
      "cell_type": "code",
      "metadata": {
        "colab": {
          "base_uri": "https://localhost:8080/",
          "height": 979
        },
        "id": "d4FRINrS6B2V",
        "outputId": "d2115c77-89e7-465b-d970-510d1f7d6410"
      },
      "source": [
        "df"
      ],
      "execution_count": null,
      "outputs": [
        {
          "output_type": "execute_result",
          "data": {
            "text/html": [
              "<div>\n",
              "<style scoped>\n",
              "    .dataframe tbody tr th:only-of-type {\n",
              "        vertical-align: middle;\n",
              "    }\n",
              "\n",
              "    .dataframe tbody tr th {\n",
              "        vertical-align: top;\n",
              "    }\n",
              "\n",
              "    .dataframe thead th {\n",
              "        text-align: right;\n",
              "    }\n",
              "</style>\n",
              "<table border=\"1\" class=\"dataframe\">\n",
              "  <thead>\n",
              "    <tr style=\"text-align: right;\">\n",
              "      <th></th>\n",
              "      <th>titre</th>\n",
              "      <th>vue</th>\n",
              "      <th>date</th>\n",
              "    </tr>\n",
              "  </thead>\n",
              "  <tbody>\n",
              "    <tr>\n",
              "      <th>0</th>\n",
              "      <td>Projets Kaggle | Prévision d'un Crédit Logemen...</td>\n",
              "      <td>140 views</td>\n",
              "      <td>1 day ago</td>\n",
              "    </tr>\n",
              "    <tr>\n",
              "      <th>1</th>\n",
              "      <td>Projets Kaggle | Prévision d'un Crédit Logemen...</td>\n",
              "      <td>358 views</td>\n",
              "      <td>1 week ago</td>\n",
              "    </tr>\n",
              "    <tr>\n",
              "      <th>2</th>\n",
              "      <td>Projets Kaggle | Prévision d'un Crédit Logemen...</td>\n",
              "      <td>621 views</td>\n",
              "      <td>1 week ago</td>\n",
              "    </tr>\n",
              "    <tr>\n",
              "      <th>3</th>\n",
              "      <td>Process de travail d'un Data Scientist: Les ét...</td>\n",
              "      <td>886 views</td>\n",
              "      <td>1 month ago</td>\n",
              "    </tr>\n",
              "    <tr>\n",
              "      <th>4</th>\n",
              "      <td>Réaliser un Assistant Virtuel en Python</td>\n",
              "      <td>1.7K views</td>\n",
              "      <td>1 month ago</td>\n",
              "    </tr>\n",
              "    <tr>\n",
              "      <th>5</th>\n",
              "      <td>Initiation SQL (Partie 6): Exercices et Applic...</td>\n",
              "      <td>300 views</td>\n",
              "      <td>1 month ago</td>\n",
              "    </tr>\n",
              "    <tr>\n",
              "      <th>6</th>\n",
              "      <td>Initiation SQL (Partie 5): La notion de Join (...</td>\n",
              "      <td>244 views</td>\n",
              "      <td>1 month ago</td>\n",
              "    </tr>\n",
              "    <tr>\n",
              "      <th>7</th>\n",
              "      <td>Initiation SQL (Partie 4): des commandes de ba...</td>\n",
              "      <td>293 views</td>\n",
              "      <td>1 month ago</td>\n",
              "    </tr>\n",
              "    <tr>\n",
              "      <th>8</th>\n",
              "      <td>Initiation SQL (Partie 3): Ouvrir une base de ...</td>\n",
              "      <td>507 views</td>\n",
              "      <td>1 month ago</td>\n",
              "    </tr>\n",
              "    <tr>\n",
              "      <th>9</th>\n",
              "      <td>Initiation à SQL (Partie 2): Installation de M...</td>\n",
              "      <td>499 views</td>\n",
              "      <td>1 month ago</td>\n",
              "    </tr>\n",
              "    <tr>\n",
              "      <th>10</th>\n",
              "      <td>Initiation à SQL (Partie 1): C'est quoi le SQL?</td>\n",
              "      <td>774 views</td>\n",
              "      <td>1 month ago</td>\n",
              "    </tr>\n",
              "    <tr>\n",
              "      <th>11</th>\n",
              "      <td>Réaliser une simple web app machine learning a...</td>\n",
              "      <td>2K views</td>\n",
              "      <td>1 month ago</td>\n",
              "    </tr>\n",
              "    <tr>\n",
              "      <th>12</th>\n",
              "      <td>Comprendre la Programmation Orientée Objet ave...</td>\n",
              "      <td>1.7K views</td>\n",
              "      <td>1 month ago</td>\n",
              "    </tr>\n",
              "    <tr>\n",
              "      <th>13</th>\n",
              "      <td>5 mini-projets python pour les débutants</td>\n",
              "      <td>7.9K views</td>\n",
              "      <td>2 months ago</td>\n",
              "    </tr>\n",
              "    <tr>\n",
              "      <th>14</th>\n",
              "      <td>Je veux travailler sur un projet réel en Data ...</td>\n",
              "      <td>734 views</td>\n",
              "      <td>3 months ago</td>\n",
              "    </tr>\n",
              "    <tr>\n",
              "      <th>15</th>\n",
              "      <td>Je veux travailler sur un projet réel en Data ...</td>\n",
              "      <td>605 views</td>\n",
              "      <td>3 months ago</td>\n",
              "    </tr>\n",
              "    <tr>\n",
              "      <th>16</th>\n",
              "      <td>Je veux travailler sur un projet réel en Data ...</td>\n",
              "      <td>612 views</td>\n",
              "      <td>3 months ago</td>\n",
              "    </tr>\n",
              "    <tr>\n",
              "      <th>17</th>\n",
              "      <td>Je veux travailler sur un projet réel en Data ...</td>\n",
              "      <td>1.3K views</td>\n",
              "      <td>3 months ago</td>\n",
              "    </tr>\n",
              "    <tr>\n",
              "      <th>18</th>\n",
              "      <td>Réaliser une Application Django - Partie 13-: ...</td>\n",
              "      <td>1.1K views</td>\n",
              "      <td>3 months ago</td>\n",
              "    </tr>\n",
              "    <tr>\n",
              "      <th>19</th>\n",
              "      <td>Réaliser une Application Django - Partie 12-: ...</td>\n",
              "      <td>1.3K views</td>\n",
              "      <td>3 months ago</td>\n",
              "    </tr>\n",
              "    <tr>\n",
              "      <th>20</th>\n",
              "      <td>Réaliser une Application Django - Partie 11-: ...</td>\n",
              "      <td>1.2K views</td>\n",
              "      <td>3 months ago</td>\n",
              "    </tr>\n",
              "    <tr>\n",
              "      <th>21</th>\n",
              "      <td>Les langages de programmation les plus demandé...</td>\n",
              "      <td>2.7K views</td>\n",
              "      <td>3 months ago</td>\n",
              "    </tr>\n",
              "    <tr>\n",
              "      <th>22</th>\n",
              "      <td>Faire du web scraping avec Selenium en utilisa...</td>\n",
              "      <td>2.7K views</td>\n",
              "      <td>3 months ago</td>\n",
              "    </tr>\n",
              "    <tr>\n",
              "      <th>23</th>\n",
              "      <td>Apprendre le Web Scrapping avec Python et Beau...</td>\n",
              "      <td>1.8K views</td>\n",
              "      <td>3 months ago</td>\n",
              "    </tr>\n",
              "    <tr>\n",
              "      <th>24</th>\n",
              "      <td>Guide de l'Analyse Exploratoire des Données -E...</td>\n",
              "      <td>1.8K views</td>\n",
              "      <td>3 months ago</td>\n",
              "    </tr>\n",
              "    <tr>\n",
              "      <th>25</th>\n",
              "      <td>Réaliser une Application Django - Partie 10-: ...</td>\n",
              "      <td>1.4K views</td>\n",
              "      <td>4 months ago</td>\n",
              "    </tr>\n",
              "    <tr>\n",
              "      <th>26</th>\n",
              "      <td>Réaliser une Application Django - Partie 9-: I...</td>\n",
              "      <td>2.1K views</td>\n",
              "      <td>5 months ago</td>\n",
              "    </tr>\n",
              "    <tr>\n",
              "      <th>27</th>\n",
              "      <td>Réaliser une Application Django - Partie 8-: C...</td>\n",
              "      <td>1.7K views</td>\n",
              "      <td>5 months ago</td>\n",
              "    </tr>\n",
              "    <tr>\n",
              "      <th>28</th>\n",
              "      <td>Réaliser une Application Django - Partie 7-: A...</td>\n",
              "      <td>2.1K views</td>\n",
              "      <td>5 months ago</td>\n",
              "    </tr>\n",
              "    <tr>\n",
              "      <th>29</th>\n",
              "      <td>Réaliser une Application Django - Partie 6-: L...</td>\n",
              "      <td>1.9K views</td>\n",
              "      <td>5 months ago</td>\n",
              "    </tr>\n",
              "  </tbody>\n",
              "</table>\n",
              "</div>"
            ],
            "text/plain": [
              "                                                titre         vue          date\n",
              "0   Projets Kaggle | Prévision d'un Crédit Logemen...   140 views     1 day ago\n",
              "1   Projets Kaggle | Prévision d'un Crédit Logemen...   358 views    1 week ago\n",
              "2   Projets Kaggle | Prévision d'un Crédit Logemen...   621 views    1 week ago\n",
              "3   Process de travail d'un Data Scientist: Les ét...   886 views   1 month ago\n",
              "4             Réaliser un Assistant Virtuel en Python  1.7K views   1 month ago\n",
              "5   Initiation SQL (Partie 6): Exercices et Applic...   300 views   1 month ago\n",
              "6   Initiation SQL (Partie 5): La notion de Join (...   244 views   1 month ago\n",
              "7   Initiation SQL (Partie 4): des commandes de ba...   293 views   1 month ago\n",
              "8   Initiation SQL (Partie 3): Ouvrir une base de ...   507 views   1 month ago\n",
              "9   Initiation à SQL (Partie 2): Installation de M...   499 views   1 month ago\n",
              "10    Initiation à SQL (Partie 1): C'est quoi le SQL?   774 views   1 month ago\n",
              "11  Réaliser une simple web app machine learning a...    2K views   1 month ago\n",
              "12  Comprendre la Programmation Orientée Objet ave...  1.7K views   1 month ago\n",
              "13           5 mini-projets python pour les débutants  7.9K views  2 months ago\n",
              "14  Je veux travailler sur un projet réel en Data ...   734 views  3 months ago\n",
              "15  Je veux travailler sur un projet réel en Data ...   605 views  3 months ago\n",
              "16  Je veux travailler sur un projet réel en Data ...   612 views  3 months ago\n",
              "17  Je veux travailler sur un projet réel en Data ...  1.3K views  3 months ago\n",
              "18  Réaliser une Application Django - Partie 13-: ...  1.1K views  3 months ago\n",
              "19  Réaliser une Application Django - Partie 12-: ...  1.3K views  3 months ago\n",
              "20  Réaliser une Application Django - Partie 11-: ...  1.2K views  3 months ago\n",
              "21  Les langages de programmation les plus demandé...  2.7K views  3 months ago\n",
              "22  Faire du web scraping avec Selenium en utilisa...  2.7K views  3 months ago\n",
              "23  Apprendre le Web Scrapping avec Python et Beau...  1.8K views  3 months ago\n",
              "24  Guide de l'Analyse Exploratoire des Données -E...  1.8K views  3 months ago\n",
              "25  Réaliser une Application Django - Partie 10-: ...  1.4K views  4 months ago\n",
              "26  Réaliser une Application Django - Partie 9-: I...  2.1K views  5 months ago\n",
              "27  Réaliser une Application Django - Partie 8-: C...  1.7K views  5 months ago\n",
              "28  Réaliser une Application Django - Partie 7-: A...  2.1K views  5 months ago\n",
              "29  Réaliser une Application Django - Partie 6-: L...  1.9K views  5 months ago"
            ]
          },
          "metadata": {
            "tags": []
          },
          "execution_count": 29
        }
      ]
    },
    {
      "cell_type": "code",
      "metadata": {
        "id": "_bN0df4Lgp2c"
      },
      "source": [
        "df.to_csv('yt_formasys.csv')"
      ],
      "execution_count": null,
      "outputs": []
    }
  ]
}