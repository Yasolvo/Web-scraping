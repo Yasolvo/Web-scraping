{
  "nbformat": 4,
  "nbformat_minor": 0,
  "metadata": {
    "colab": {
      "name": "web scraping with BeautifulSoup.ipynb",
      "provenance": [],
      "collapsed_sections": [],
      "authorship_tag": "ABX9TyNH/POUR297lqU1DMj+hjFH",
      "include_colab_link": true
    },
    "kernelspec": {
      "name": "python3",
      "display_name": "Python 3"
    },
    "language_info": {
      "name": "python"
    }
  },
  "cells": [
    {
      "cell_type": "markdown",
      "metadata": {
        "id": "view-in-github",
        "colab_type": "text"
      },
      "source": [
        "<a href=\"https://colab.research.google.com/github/Yasolvo/Web-scraping/blob/main/web_scraping_with_BeautifulSoup.ipynb\" target=\"_parent\"><img src=\"https://colab.research.google.com/assets/colab-badge.svg\" alt=\"Open In Colab\"/></a>"
      ]
    },
    {
      "cell_type": "code",
      "metadata": {
        "id": "MglDsPA-g2ZD"
      },
      "source": [
        "!pip install beautifulsoup4\n",
        "!pip install requests\n",
        "!pip install builtwith\n",
        "!pip install python-whois"
      ],
      "execution_count": null,
      "outputs": []
    },
    {
      "cell_type": "code",
      "metadata": {
        "id": "B8nVcUUfiHW4"
      },
      "source": [
        "# Importer les packages\n",
        "import requests\n",
        "from bs4 import BeautifulSoup\n",
        "import pandas as pd\n",
        "import builtwith\n",
        "import whois"
      ],
      "execution_count": null,
      "outputs": []
    },
    {
      "cell_type": "code",
      "metadata": {
        "colab": {
          "base_uri": "https://localhost:8080/"
        },
        "id": "3Lao5tYtihHM",
        "outputId": "636dac71-4ade-4349-a67c-d254fa1e6b30"
      },
      "source": [
        "# Saisir l'url\n",
        "url =\"http://feeds.bbci.co.uk/news/rss.xml\"\n",
        "# chercher les technologies du site\n",
        "builtwithsite=builtwith.parse(url)\n",
        "builtwithsite"
      ],
      "execution_count": null,
      "outputs": [
        {
          "output_type": "execute_result",
          "data": {
            "text/plain": [
              "{'web-server-extensions': ['OpenSSL'], 'web-servers': ['Apache']}"
            ]
          },
          "metadata": {
            "tags": []
          },
          "execution_count": 16
        }
      ]
    },
    {
      "cell_type": "code",
      "metadata": {
        "colab": {
          "base_uri": "https://localhost:8080/"
        },
        "id": "tXqPVQ-HntD_",
        "outputId": "7b082414-27bb-4c7e-8e31-dddd2b497c57"
      },
      "source": [
        "print (whois.whois('http://feeds.bbci.co.uk/news/rss.xml'))"
      ],
      "execution_count": null,
      "outputs": [
        {
          "output_type": "stream",
          "text": [
            "{\n",
            "  \"domain_name\": \"bbci.co.uk\",\n",
            "  \"registrar\": \"British Broadcasting Corporation [Tag = BBC]\",\n",
            "  \"registrar_url\": \"http://www.bbc.co.uk\",\n",
            "  \"status\": \"Registered until expiry date.\",\n",
            "  \"registrant_name\": null,\n",
            "  \"registrant_type\": null,\n",
            "  \"registrant_street\": null,\n",
            "  \"registrant_city\": null,\n",
            "  \"registrant_country\": null,\n",
            "  \"creation_date\": \"2000-04-02 00:00:00\",\n",
            "  \"expiration_date\": \"2024-04-02 00:00:00\",\n",
            "  \"updated_date\": \"2020-12-10 00:00:00\",\n",
            "  \"name_servers\": \"ddns0.bbc.co.uk           148.163.199.1  2607:f740:e04e::1\"\n",
            "}\n"
          ],
          "name": "stdout"
        }
      ]
    },
    {
      "cell_type": "code",
      "metadata": {
        "id": "tlHVxSjii0F5"
      },
      "source": [
        "# Importer le code de la page\n",
        "reponse=requests.get(url)\n",
        "soup=BeautifulSoup(reponse.text,\"html.parser\")"
      ],
      "execution_count": null,
      "outputs": []
    },
    {
      "cell_type": "code",
      "metadata": {
        "id": "BfuhhNvvjWD3"
      },
      "source": [
        "items=soup.findAll('item')"
      ],
      "execution_count": null,
      "outputs": []
    },
    {
      "cell_type": "code",
      "metadata": {
        "id": "p9dt8RG8lNbO"
      },
      "source": [
        "item=items[0]"
      ],
      "execution_count": null,
      "outputs": []
    },
    {
      "cell_type": "code",
      "metadata": {
        "colab": {
          "base_uri": "https://localhost:8080/",
          "height": 52
        },
        "id": "DdE1_6sZlPGV",
        "outputId": "732c8a15-d361-42b2-881a-ea5b290ead0b"
      },
      "source": [
        "item.description.text"
      ],
      "execution_count": null,
      "outputs": [
        {
          "output_type": "execute_result",
          "data": {
            "application/vnd.google.colaboratory.intrinsic+json": {
              "type": "string"
            },
            "text/plain": [
              "'The funeral congregation was socially distanced, with the Queen seated alone, because of Covid rules.'"
            ]
          },
          "metadata": {
            "tags": []
          },
          "execution_count": 6
        }
      ]
    },
    {
      "cell_type": "code",
      "metadata": {
        "id": "aEOVLWiDldVb"
      },
      "source": [
        "news_items=[]"
      ],
      "execution_count": null,
      "outputs": []
    },
    {
      "cell_type": "code",
      "metadata": {
        "id": "aCGcXi0qraXD"
      },
      "source": [
        "for i in items:\n",
        "  news_i={}\n",
        "  news_i['title']=i.title.text\n",
        "  news_i['description']=i.description.text\n",
        "  news_i['pubdate']=i.pubdate.text\n",
        "  news_items.append(news_i)"
      ],
      "execution_count": null,
      "outputs": []
    },
    {
      "cell_type": "code",
      "metadata": {
        "colab": {
          "base_uri": "https://localhost:8080/"
        },
        "id": "3Nz5rC0GsC7D",
        "outputId": "715d7d04-11e2-4aef-bb4d-6d0efedb2632"
      },
      "source": [
        "news_items"
      ],
      "execution_count": null,
      "outputs": [
        {
          "output_type": "execute_result",
          "data": {
            "text/plain": [
              "[{'description': 'The funeral congregation was socially distanced, with the Queen seated alone, because of Covid rules.',\n",
              "  'pubdate': 'Sat, 17 Apr 2021 16:15:11 GMT',\n",
              "  'title': \"Prince Philip: Royal Family honours duke's 'humour and humanity'\"},\n",
              " {'description': 'It comes as the World Health Organization warns of deaths and cases increasing at a \"worrying rate\".',\n",
              "  'pubdate': 'Sat, 17 Apr 2021 14:52:31 GMT',\n",
              "  'title': 'Covid-19 deaths pass three million worldwide'},\n",
              " {'description': 'Cillian Murphy, JK Rowling and Sir Sam Mendes lead tributes to the \"fearless and magnificent\" actress.',\n",
              "  'pubdate': 'Sat, 17 Apr 2021 11:59:05 GMT',\n",
              "  'title': 'Helen McCrory: Stars pay tribute to Peaky Blinders actress'},\n",
              " {'description': \"The BBC's Jonah Fisher reports from the front line between soldiers and separatists.\",\n",
              "  'pubdate': 'Fri, 16 Apr 2021 23:21:36 GMT',\n",
              "  'title': 'On the front line in eastern Ukraine'},\n",
              " {'description': 'State TV alleges Reza Karimi fled Iran before the blast, which damaged its Natanz nuclear plant.',\n",
              "  'pubdate': 'Sat, 17 Apr 2021 16:42:01 GMT',\n",
              "  'title': 'Iran nuclear: State TV names suspect in Natanz attack'},\n",
              " {'description': 'A refugee organisation says the White House\\'s explanation of the order is \"completely false\".',\n",
              "  'pubdate': 'Sat, 17 Apr 2021 06:51:21 GMT',\n",
              "  'title': 'Biden backtracks on keeping Trump cap on refugees'},\n",
              " {'description': 'Pupils from Gordonstoun school lay a wreath off the Moray coast where Prince Philip learned to sail.',\n",
              "  'pubdate': 'Sat, 17 Apr 2021 15:45:16 GMT',\n",
              "  'title': \"Duke's former school pays tribute with wreath at sea\"},\n",
              " {'description': 'A man was detained on Thursday trying to enter a service yard at the royal residence, police say.',\n",
              "  'pubdate': 'Sat, 17 Apr 2021 15:18:51 GMT',\n",
              "  'title': 'Man charged over Buckingham Palace trespass'},\n",
              " {'description': 'Lord Evans says a number of allegations against ministers \"haven\\'t been completely investigated\".',\n",
              "  'pubdate': 'Sat, 17 Apr 2021 05:03:09 GMT',\n",
              "  'title': \"Government 'risks public trust' without probes into ministers\"},\n",
              " {'description': 'The 200-tonne seizure is one of the largest ever hauls of the endangered species.',\n",
              "  'pubdate': 'Sat, 17 Apr 2021 08:50:31 GMT',\n",
              "  'title': 'Philippines: Giant clam shells worth $25m seized in raid'},\n",
              " {'description': 'Chris Tyler used racist language against a colleague at a Christmas party, a hearing finds.',\n",
              "  'pubdate': 'Sat, 17 Apr 2021 12:20:01 GMT',\n",
              "  'title': 'Cambridgeshire Police officer sacked over racial slur'},\n",
              " {'description': 'A man and a woman are being questioned by police about the death of a man in Plympton, Devon.',\n",
              "  'pubdate': 'Sat, 17 Apr 2021 14:15:20 GMT',\n",
              "  'title': 'Plymouth man in his 70s held on suspicion of murder'},\n",
              " {'description': 'The funeral for the Duke of Edinburgh was held in the grounds of Windsor Castle.',\n",
              "  'pubdate': 'Sat, 17 Apr 2021 14:51:11 GMT',\n",
              "  'title': 'Prince Philip funeral: Pictures as Queen and nation bid farewell to the duke'},\n",
              " {'description': \"Those watching closely noticed carefully placed references to the duke's remarkable life story.\",\n",
              "  'pubdate': 'Sat, 17 Apr 2021 17:16:43 GMT',\n",
              "  'title': \"Prince Philip: Land Rover hearse and other personal touches at duke's funeral\"},\n",
              " {'description': \"The Duke of Edinburgh's four children were among those following him to St George's Chapel.\",\n",
              "  'pubdate': 'Sat, 17 Apr 2021 15:17:17 GMT',\n",
              "  'title': 'Prince Philip funeral: Royal Family members walk behind coffin'},\n",
              " {'description': 'The Queen has led her family in mourning at the funeral of her husband, the Duke of Edinburgh, in the grounds of Windsor Castle.',\n",
              "  'pubdate': 'Sat, 17 Apr 2021 15:17:20 GMT',\n",
              "  'title': \"Minute's silence ahead of service\"},\n",
              " {'description': 'Covid restrictions mean only 30 mourners were allowed to attend the funeral of the duke.',\n",
              "  'pubdate': 'Sat, 17 Apr 2021 14:49:56 GMT',\n",
              "  'title': \"Who attended Prince Philip's funeral?\"},\n",
              " {'description': 'Poet laureate Simon Armitage has written an elegy for Prince Philip, entitled The Patriarchs - An Elegy.',\n",
              "  'pubdate': 'Sat, 17 Apr 2021 10:52:56 GMT',\n",
              "  'title': 'Prince Philip: The Patriarchs - An Elegy'},\n",
              " {'description': 'In marrying, Philip was able to regain the \"simple pleasures\" of family life he had lost aged eight.',\n",
              "  'pubdate': 'Sat, 10 Apr 2021 11:08:59 GMT',\n",
              "  'title': 'Prince Philip: A turbulent childhood stalked by exile, mental illness and death'},\n",
              " {'description': 'Key photographs, from his early days in the Greek island of Corfu to school days in Scotland and his life alongside the Queen.',\n",
              "  'pubdate': 'Fri, 09 Apr 2021 11:18:10 GMT',\n",
              "  'title': 'Prince Philip: A life in pictures'},\n",
              " {'description': \"During their 73-year marriage, he was the Queen's public support and the person who knew her best.\",\n",
              "  'pubdate': 'Fri, 09 Apr 2021 23:29:34 GMT',\n",
              "  'title': 'The Queen and Prince Philip: An enduring royal romance'},\n",
              " {'description': 'The Duke of Sussex has returned to the UK for the first time since \"stepping back\" from royal duties.',\n",
              "  'pubdate': 'Fri, 16 Apr 2021 16:01:59 GMT',\n",
              "  'title': 'Prince Philip: How can Prince Harry attend the funeral?'},\n",
              " {'description': \"The Duke of Edinburgh's life was filled with contradictions but will be remembered most for his unstinting support of the Queen.\",\n",
              "  'pubdate': 'Fri, 09 Apr 2021 11:15:29 GMT',\n",
              "  'title': 'Prince Philip: An extraordinary man who led an extraordinary life'},\n",
              " {'description': 'A look back at the characters portrayed by the British actress, who has died aged 52.',\n",
              "  'pubdate': 'Fri, 16 Apr 2021 19:25:54 GMT',\n",
              "  'title': \"In Pictures: Helen McCrory's acting career\"},\n",
              " {'description': 'Nadya and Emna live 12,000 km away from each other but both have been told what they can and can’t wear.',\n",
              "  'pubdate': 'Fri, 16 Apr 2021 23:23:00 GMT',\n",
              "  'title': \"Hijab regulations: Two women's experience\"},\n",
              " {'description': 'Six-year-old Amelia Barratt donates her locks and more than £800 to help children with cancer.',\n",
              "  'pubdate': 'Sat, 17 Apr 2021 16:03:01 GMT',\n",
              "  'title': \"Girl, 6, donates 'lifetime of hair' to cancer charity\"},\n",
              " {'description': 'Tom Wilson, who has cerebral palsy and is profoundly deaf, has not let the pandemic hold him back.',\n",
              "  'pubdate': 'Fri, 16 Apr 2021 18:50:54 GMT',\n",
              "  'title': 'Covid: Art and challenges keep Para athlete on track'},\n",
              " {'description': 'A selection of powerful images taken around the world this week.',\n",
              "  'pubdate': 'Fri, 16 Apr 2021 23:06:20 GMT',\n",
              "  'title': 'Week in pictures: 10 - 16 April 2021'},\n",
              " {'description': 'This year’s wildfire season in Nepal has been worse than usual with more fires, burning longer.',\n",
              "  'pubdate': 'Fri, 16 Apr 2021 23:22:11 GMT',\n",
              "  'title': \"Nepal fires: 'We saw huge flames coming towards our garden’\"},\n",
              " {'description': \"The vaccine has not yet been approved by Europe's medicines agency but orders are piling in.\",\n",
              "  'pubdate': 'Fri, 16 Apr 2021 23:12:47 GMT',\n",
              "  'title': \"Sputnik V: How Russia's Covid vaccine is dividing Europe\"},\n",
              " {'description': 'Key maps and charts explaining how the virus has spread around the world.',\n",
              "  'pubdate': 'Fri, 16 Apr 2021 11:40:46 GMT',\n",
              "  'title': 'Covid map: Coronavirus cases, deaths, vaccinations by country'},\n",
              " {'description': 'Large events are going ahead this weekend as part of trials to reopen the economy, but some are receiving hate for participating.',\n",
              "  'pubdate': 'Fri, 16 Apr 2021 23:39:09 GMT',\n",
              "  'title': 'Cinema and big event organisers targeted by extreme anti-vax activists'},\n",
              " {'description': 'Newsbeat hears from staff heading back to work after four months away.',\n",
              "  'pubdate': 'Fri, 16 Apr 2021 23:40:04 GMT',\n",
              "  'title': \"Pub and shop staff: 'Please be nice to us this weekend'\"},\n",
              " {'description': \"The BBC's Frank Gardner asks the awkward question about a war with an astronomical human cost.\",\n",
              "  'pubdate': 'Fri, 16 Apr 2021 23:14:24 GMT',\n",
              "  'title': '20 years in Afghanistan: Was it worth it?'},\n",
              " {'description': 'Business owners tell how their first week of trading has gone after lockdown rules eased in England and Wales.',\n",
              "  'pubdate': 'Fri, 16 Apr 2021 21:01:03 GMT',\n",
              "  'title': \"Reopening verdict: 'It was 'buzzing, chaotic and crazy'\"},\n",
              " {'description': \"Tributes have been paid across the sporting world on the day of the Duke of Edinburgh's funeral.\",\n",
              "  'pubdate': 'Sat, 17 Apr 2021 15:37:00 GMT',\n",
              "  'title': \"Sport pauses for Prince Philip's funeral\"},\n",
              " {'description': 'Great Britain move a step closer to the 2022 Billie Jean King Cup Finals after Katie Boulter clinches a play-off win against Mexico.',\n",
              "  'pubdate': 'Sat, 17 Apr 2021 17:02:09 GMT',\n",
              "  'title': 'Boulter seals play-off victory for Britain in Billie Jean King Cup'},\n",
              " {'description': 'Newcastle take a big step towards securing their Premier League status with a dramatic win against 10-man West Ham.',\n",
              "  'pubdate': 'Sat, 17 Apr 2021 14:31:17 GMT',\n",
              "  'title': 'Newcastle United 3-2 West Ham United: Hosts win to boost hopes of avoiding relegation'},\n",
              " {'description': \"Watch the best tries from France's 56-15 win over Ireland which seals their place in the Six Nations final against England next weekend.\",\n",
              "  'pubdate': 'Sat, 17 Apr 2021 16:03:39 GMT',\n",
              "  'title': \"Watch the best tries as France thrash Ireland in Women's Six Nations\"},\n",
              " {'description': 'Chelsea manager Thomas Tuchel say it is \"so nice and so hard\" to face the \"strong belief\" of Pep Guardiola\\'s Manchester City in the FA Cup semi-finals at Wembley.',\n",
              "  'pubdate': 'Sat, 17 Apr 2021 08:00:14 GMT',\n",
              "  'title': \"FA Cup: Chelsea's Thomas Tuchel says it's 'so nice and so hard' to face Pep Guardiola\"},\n",
              " {'description': 'Pub gardens and non-essential shops can now open in England - as part of the next stage of easing lockdown rules.',\n",
              "  'pubdate': 'Fri, 16 Apr 2021 10:08:02 GMT',\n",
              "  'title': \"What's the roadmap for lifting lockdown?\"},\n",
              " {'description': 'As UK coronavirus restrictions continue to be relaxed, public transport could become much busier.',\n",
              "  'pubdate': 'Tue, 13 Apr 2021 16:40:37 GMT',\n",
              "  'title': \"Coronavirus: What's the risk on transport?\"},\n",
              " {'description': 'Explore the data on coronavirus in the UK and find out how many cases there are in your area.',\n",
              "  'pubdate': 'Sat, 17 Apr 2021 16:35:36 GMT',\n",
              "  'title': 'Covid-19 in the UK: How many coronavirus cases are there in your area?'},\n",
              " {'description': 'The logistics of vaccinating millions of people across the country, as more than 32 million people receive at least one dose.',\n",
              "  'pubdate': 'Fri, 16 Apr 2021 15:27:25 GMT',\n",
              "  'title': 'Covid vaccine: How many people in the UK have been vaccinated so far?'},\n",
              " {'description': 'Face-to-face courses cannot resume on campuses in England until at least 17 May.',\n",
              "  'pubdate': 'Wed, 14 Apr 2021 17:13:24 GMT',\n",
              "  'title': \"Covid: What's happening with universities as lockdown eases?\"},\n",
              " {'description': 'As the pandemic rages in Brazil, hundreds of babies and young children are dying of Covid.',\n",
              "  'pubdate': 'Wed, 14 Apr 2021 23:15:02 GMT',\n",
              "  'title': 'Why are so many babies dying of Covid-19 in Brazil?'},\n",
              " {'description': 'How the government handled the release of a contentious report on racial disparity in the UK.',\n",
              "  'pubdate': 'Sat, 03 Apr 2021 11:14:44 GMT',\n",
              "  'title': 'Race report: Was controversy part of the plan?'},\n",
              " {'description': 'Danny Stewart saw something on the floor of an NY subway station - soon he would treasure it more than anything.',\n",
              "  'pubdate': 'Sat, 03 Apr 2021 23:14:24 GMT',\n",
              "  'title': \"'We found a baby on the subway - now he's our son'\"},\n",
              " {'description': 'Diagnosed with a terminal illness, Hanna wanted to tell the twins taken from her at 16 - but had no way of reaching them.',\n",
              "  'pubdate': 'Tue, 30 Mar 2021 23:19:18 GMT',\n",
              "  'title': \"Letterbox contact: ‘Don’t my birth children have a right to know I’m dying?'\"}]"
            ]
          },
          "metadata": {
            "tags": []
          },
          "execution_count": 9
        }
      ]
    },
    {
      "cell_type": "code",
      "metadata": {
        "id": "FPTYrvlgsUoC"
      },
      "source": [
        "# Convertir la liste en base de données\n",
        "df=pd.DataFrame(news_items,columns=['title','description','pubdate'])"
      ],
      "execution_count": null,
      "outputs": []
    },
    {
      "cell_type": "code",
      "metadata": {
        "colab": {
          "base_uri": "https://localhost:8080/",
          "height": 1000
        },
        "id": "OMmMkowu2sav",
        "outputId": "d4123b37-5dbf-423a-83da-f7b95d3b5ebe"
      },
      "source": [
        "df.head(20)"
      ],
      "execution_count": null,
      "outputs": [
        {
          "output_type": "execute_result",
          "data": {
            "text/html": [
              "<div>\n",
              "<style scoped>\n",
              "    .dataframe tbody tr th:only-of-type {\n",
              "        vertical-align: middle;\n",
              "    }\n",
              "\n",
              "    .dataframe tbody tr th {\n",
              "        vertical-align: top;\n",
              "    }\n",
              "\n",
              "    .dataframe thead th {\n",
              "        text-align: right;\n",
              "    }\n",
              "</style>\n",
              "<table border=\"1\" class=\"dataframe\">\n",
              "  <thead>\n",
              "    <tr style=\"text-align: right;\">\n",
              "      <th></th>\n",
              "      <th>title</th>\n",
              "      <th>description</th>\n",
              "      <th>pubdate</th>\n",
              "    </tr>\n",
              "  </thead>\n",
              "  <tbody>\n",
              "    <tr>\n",
              "      <th>0</th>\n",
              "      <td>Prince Philip: Royal Family honours duke's 'hu...</td>\n",
              "      <td>The funeral congregation was socially distance...</td>\n",
              "      <td>Sat, 17 Apr 2021 16:15:11 GMT</td>\n",
              "    </tr>\n",
              "    <tr>\n",
              "      <th>1</th>\n",
              "      <td>Covid-19 deaths pass three million worldwide</td>\n",
              "      <td>It comes as the World Health Organization warn...</td>\n",
              "      <td>Sat, 17 Apr 2021 14:52:31 GMT</td>\n",
              "    </tr>\n",
              "    <tr>\n",
              "      <th>2</th>\n",
              "      <td>Helen McCrory: Stars pay tribute to Peaky Blin...</td>\n",
              "      <td>Cillian Murphy, JK Rowling and Sir Sam Mendes ...</td>\n",
              "      <td>Sat, 17 Apr 2021 11:59:05 GMT</td>\n",
              "    </tr>\n",
              "    <tr>\n",
              "      <th>3</th>\n",
              "      <td>On the front line in eastern Ukraine</td>\n",
              "      <td>The BBC's Jonah Fisher reports from the front ...</td>\n",
              "      <td>Fri, 16 Apr 2021 23:21:36 GMT</td>\n",
              "    </tr>\n",
              "    <tr>\n",
              "      <th>4</th>\n",
              "      <td>Iran nuclear: State TV names suspect in Natanz...</td>\n",
              "      <td>State TV alleges Reza Karimi fled Iran before ...</td>\n",
              "      <td>Sat, 17 Apr 2021 16:42:01 GMT</td>\n",
              "    </tr>\n",
              "    <tr>\n",
              "      <th>5</th>\n",
              "      <td>Biden backtracks on keeping Trump cap on refugees</td>\n",
              "      <td>A refugee organisation says the White House's ...</td>\n",
              "      <td>Sat, 17 Apr 2021 06:51:21 GMT</td>\n",
              "    </tr>\n",
              "    <tr>\n",
              "      <th>6</th>\n",
              "      <td>Duke's former school pays tribute with wreath ...</td>\n",
              "      <td>Pupils from Gordonstoun school lay a wreath of...</td>\n",
              "      <td>Sat, 17 Apr 2021 15:45:16 GMT</td>\n",
              "    </tr>\n",
              "    <tr>\n",
              "      <th>7</th>\n",
              "      <td>Man charged over Buckingham Palace trespass</td>\n",
              "      <td>A man was detained on Thursday trying to enter...</td>\n",
              "      <td>Sat, 17 Apr 2021 15:18:51 GMT</td>\n",
              "    </tr>\n",
              "    <tr>\n",
              "      <th>8</th>\n",
              "      <td>Government 'risks public trust' without probes...</td>\n",
              "      <td>Lord Evans says a number of allegations agains...</td>\n",
              "      <td>Sat, 17 Apr 2021 05:03:09 GMT</td>\n",
              "    </tr>\n",
              "    <tr>\n",
              "      <th>9</th>\n",
              "      <td>Philippines: Giant clam shells worth $25m seiz...</td>\n",
              "      <td>The 200-tonne seizure is one of the largest ev...</td>\n",
              "      <td>Sat, 17 Apr 2021 08:50:31 GMT</td>\n",
              "    </tr>\n",
              "    <tr>\n",
              "      <th>10</th>\n",
              "      <td>Cambridgeshire Police officer sacked over raci...</td>\n",
              "      <td>Chris Tyler used racist language against a col...</td>\n",
              "      <td>Sat, 17 Apr 2021 12:20:01 GMT</td>\n",
              "    </tr>\n",
              "    <tr>\n",
              "      <th>11</th>\n",
              "      <td>Plymouth man in his 70s held on suspicion of m...</td>\n",
              "      <td>A man and a woman are being questioned by poli...</td>\n",
              "      <td>Sat, 17 Apr 2021 14:15:20 GMT</td>\n",
              "    </tr>\n",
              "    <tr>\n",
              "      <th>12</th>\n",
              "      <td>Prince Philip funeral: Pictures as Queen and n...</td>\n",
              "      <td>The funeral for the Duke of Edinburgh was held...</td>\n",
              "      <td>Sat, 17 Apr 2021 14:51:11 GMT</td>\n",
              "    </tr>\n",
              "    <tr>\n",
              "      <th>13</th>\n",
              "      <td>Prince Philip: Land Rover hearse and other per...</td>\n",
              "      <td>Those watching closely noticed carefully place...</td>\n",
              "      <td>Sat, 17 Apr 2021 17:16:43 GMT</td>\n",
              "    </tr>\n",
              "    <tr>\n",
              "      <th>14</th>\n",
              "      <td>Prince Philip funeral: Royal Family members wa...</td>\n",
              "      <td>The Duke of Edinburgh's four children were amo...</td>\n",
              "      <td>Sat, 17 Apr 2021 15:17:17 GMT</td>\n",
              "    </tr>\n",
              "    <tr>\n",
              "      <th>15</th>\n",
              "      <td>Minute's silence ahead of service</td>\n",
              "      <td>The Queen has led her family in mourning at th...</td>\n",
              "      <td>Sat, 17 Apr 2021 15:17:20 GMT</td>\n",
              "    </tr>\n",
              "    <tr>\n",
              "      <th>16</th>\n",
              "      <td>Who attended Prince Philip's funeral?</td>\n",
              "      <td>Covid restrictions mean only 30 mourners were ...</td>\n",
              "      <td>Sat, 17 Apr 2021 14:49:56 GMT</td>\n",
              "    </tr>\n",
              "    <tr>\n",
              "      <th>17</th>\n",
              "      <td>Prince Philip: The Patriarchs - An Elegy</td>\n",
              "      <td>Poet laureate Simon Armitage has written an el...</td>\n",
              "      <td>Sat, 17 Apr 2021 10:52:56 GMT</td>\n",
              "    </tr>\n",
              "    <tr>\n",
              "      <th>18</th>\n",
              "      <td>Prince Philip: A turbulent childhood stalked b...</td>\n",
              "      <td>In marrying, Philip was able to regain the \"si...</td>\n",
              "      <td>Sat, 10 Apr 2021 11:08:59 GMT</td>\n",
              "    </tr>\n",
              "    <tr>\n",
              "      <th>19</th>\n",
              "      <td>Prince Philip: A life in pictures</td>\n",
              "      <td>Key photographs, from his early days in the Gr...</td>\n",
              "      <td>Fri, 09 Apr 2021 11:18:10 GMT</td>\n",
              "    </tr>\n",
              "  </tbody>\n",
              "</table>\n",
              "</div>"
            ],
            "text/plain": [
              "                                                title  ...                        pubdate\n",
              "0   Prince Philip: Royal Family honours duke's 'hu...  ...  Sat, 17 Apr 2021 16:15:11 GMT\n",
              "1        Covid-19 deaths pass three million worldwide  ...  Sat, 17 Apr 2021 14:52:31 GMT\n",
              "2   Helen McCrory: Stars pay tribute to Peaky Blin...  ...  Sat, 17 Apr 2021 11:59:05 GMT\n",
              "3                On the front line in eastern Ukraine  ...  Fri, 16 Apr 2021 23:21:36 GMT\n",
              "4   Iran nuclear: State TV names suspect in Natanz...  ...  Sat, 17 Apr 2021 16:42:01 GMT\n",
              "5   Biden backtracks on keeping Trump cap on refugees  ...  Sat, 17 Apr 2021 06:51:21 GMT\n",
              "6   Duke's former school pays tribute with wreath ...  ...  Sat, 17 Apr 2021 15:45:16 GMT\n",
              "7         Man charged over Buckingham Palace trespass  ...  Sat, 17 Apr 2021 15:18:51 GMT\n",
              "8   Government 'risks public trust' without probes...  ...  Sat, 17 Apr 2021 05:03:09 GMT\n",
              "9   Philippines: Giant clam shells worth $25m seiz...  ...  Sat, 17 Apr 2021 08:50:31 GMT\n",
              "10  Cambridgeshire Police officer sacked over raci...  ...  Sat, 17 Apr 2021 12:20:01 GMT\n",
              "11  Plymouth man in his 70s held on suspicion of m...  ...  Sat, 17 Apr 2021 14:15:20 GMT\n",
              "12  Prince Philip funeral: Pictures as Queen and n...  ...  Sat, 17 Apr 2021 14:51:11 GMT\n",
              "13  Prince Philip: Land Rover hearse and other per...  ...  Sat, 17 Apr 2021 17:16:43 GMT\n",
              "14  Prince Philip funeral: Royal Family members wa...  ...  Sat, 17 Apr 2021 15:17:17 GMT\n",
              "15                  Minute's silence ahead of service  ...  Sat, 17 Apr 2021 15:17:20 GMT\n",
              "16              Who attended Prince Philip's funeral?  ...  Sat, 17 Apr 2021 14:49:56 GMT\n",
              "17           Prince Philip: The Patriarchs - An Elegy  ...  Sat, 17 Apr 2021 10:52:56 GMT\n",
              "18  Prince Philip: A turbulent childhood stalked b...  ...  Sat, 10 Apr 2021 11:08:59 GMT\n",
              "19                  Prince Philip: A life in pictures  ...  Fri, 09 Apr 2021 11:18:10 GMT\n",
              "\n",
              "[20 rows x 3 columns]"
            ]
          },
          "metadata": {
            "tags": []
          },
          "execution_count": 11
        }
      ]
    },
    {
      "cell_type": "code",
      "metadata": {
        "id": "fyOvXkvg2xrP"
      },
      "source": [
        "# generer le fichier csv\n",
        "df.to_csv('web_scraping.csv',index=False,encoding='utf-8') "
      ],
      "execution_count": null,
      "outputs": []
    },
    {
      "cell_type": "code",
      "metadata": {
        "id": "ACchlb5C3WXX"
      },
      "source": [
        "# generer le fichier excel\n",
        "df.to_excel('web_scraping.xlsx',index=False,encoding='utf-8') "
      ],
      "execution_count": null,
      "outputs": []
    },
    {
      "cell_type": "code",
      "metadata": {
        "id": "JQPsdPI-3m99"
      },
      "source": [
        "# generer le fichier json\n",
        "df.to_json('web_scraping.json') "
      ],
      "execution_count": null,
      "outputs": []
    }
  ]
}