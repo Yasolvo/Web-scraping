{
  "nbformat": 4,
  "nbformat_minor": 0,
  "metadata": {
    "colab": {
      "name": "Web Scraping Images.ipynb",
      "provenance": [],
      "authorship_tag": "ABX9TyNP4qHn7k7rzGX60MC/9mis",
      "include_colab_link": true
    },
    "kernelspec": {
      "name": "python3",
      "display_name": "Python 3"
    },
    "language_info": {
      "name": "python"
    }
  },
  "cells": [
    {
      "cell_type": "markdown",
      "metadata": {
        "id": "view-in-github",
        "colab_type": "text"
      },
      "source": [
        "<a href=\"https://colab.research.google.com/github/Yasolvo/Web-scraping/blob/main/Web_Scraping_Images.ipynb\" target=\"_parent\"><img src=\"https://colab.research.google.com/assets/colab-badge.svg\" alt=\"Open In Colab\"/></a>"
      ]
    },
    {
      "cell_type": "code",
      "metadata": {
        "id": "jpjaTzYt5mRs"
      },
      "source": [
        "!pip install beautifulsoup4\n",
        "!pip install requests"
      ],
      "execution_count": null,
      "outputs": []
    },
    {
      "cell_type": "code",
      "metadata": {
        "id": "9TXPb0_z5qVy"
      },
      "source": [
        "# Importer les packages\n",
        "import requests\n",
        "from bs4 import BeautifulSoup\n",
        "import os"
      ],
      "execution_count": null,
      "outputs": []
    },
    {
      "cell_type": "code",
      "metadata": {
        "id": "DGvCCzXa5seB"
      },
      "source": [
        "# Saisir l'url\n",
        "url ='https://www.airbnb.co.uk/s/Bratislava--Slovakia/homes?tab_id=home_tab&refinement_paths%5B%5D=%2Fhomes&place_id=ChIJl2HKCjaJbEcRaEOI_YKbH2M&query=Bratislava%2C%20Slovakia&checkin=2020-11-01&checkout=2020-11-22&source=search_blocks_selector_p1_flow&search_type=search_query'"
      ],
      "execution_count": null,
      "outputs": []
    },
    {
      "cell_type": "code",
      "metadata": {
        "colab": {
          "base_uri": "https://localhost:8080/"
        },
        "id": "u0dCUi_I54PP",
        "outputId": "ee17e9ff-a2a0-4252-e106-8aff5c1a3106"
      },
      "source": [
        "def imagedown(url, folder):\n",
        "    try:\n",
        "        os.mkdir(os.path.join(os.getcwd(), folder))\n",
        "    except:\n",
        "        pass\n",
        "    os.chdir(os.path.join(os.getcwd(), folder))\n",
        "    r = requests.get(url)\n",
        "    soup = BeautifulSoup(r.text, 'html.parser')\n",
        "    images = soup.find_all('img')\n",
        "    for image in images:\n",
        "        name = image['alt']\n",
        "        link = image['src']\n",
        "        with open(name.replace(' ', '-').replace('/', '') + '.jpg', 'wb') as f:\n",
        "            im = requests.get(link)\n",
        "            f.write(im.content)\n",
        "            print('Writing: ', name)\n",
        "\n",
        "imagedown(url, 'bratislava')\n"
      ],
      "execution_count": null,
      "outputs": [
        {
          "output_type": "stream",
          "text": [
            "Writing:  Apartmán near Castle\n",
            "Writing:  Útulný byt s vlastným parkovaním\n",
            "Writing:  Nice 1 person room (third room)\n",
            "Writing:  Prime location next to castle\n",
            "Writing:  Kate & Jenny apartment on the roof in old town\n",
            "Writing:  *TOP* NEW STUDIO, AMAZING VIEW, CLOSE TO CENTER\n",
            "Writing:  grey\n",
            "Writing:  Beautiful and cosy apartment in Old Town\n",
            "Writing:  Rooftop Studio in City Center with  Large Terrace\n",
            "Writing:  Byt je tichý, bez hluku áut veľkomesta, útulný.\n",
            "Writing:  Studio above the historical Bratislava roofs\n",
            "Writing:  River front apartment, parking spot included!\n",
            "Writing:  Double bed room - newly renowated(second room)\n",
            "Writing:  Cozy room in a big house near the castle\n",
            "Writing:  Blue President next to Presidential Palace\n",
            "Writing:  Apartmán historical center\n",
            "Writing:  BRAND NEW APARTMENT, Great Location, Free Parking\n",
            "Writing:  City Center Best Place 2+2 Apartment\n",
            "Writing:  City Park Ruzinov\n",
            "Writing:  Brand new apartment! Parking spot included.\n"
          ],
          "name": "stdout"
        }
      ]
    }
  ]
}