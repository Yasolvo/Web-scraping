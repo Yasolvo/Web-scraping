{
  "nbformat": 4,
  "nbformat_minor": 0,
  "metadata": {
    "colab": {
      "name": "web scraping article.ipynb",
      "provenance": [],
      "collapsed_sections": [],
      "authorship_tag": "ABX9TyMRxK3KJtEl8y0XggoR29fx",
      "include_colab_link": true
    },
    "kernelspec": {
      "name": "python3",
      "display_name": "Python 3"
    },
    "language_info": {
      "name": "python"
    }
  },
  "cells": [
    {
      "cell_type": "markdown",
      "metadata": {
        "id": "view-in-github",
        "colab_type": "text"
      },
      "source": [
        "<a href=\"https://colab.research.google.com/github/Yasolvo/Web-scraping/blob/main/web_scraping_article.ipynb\" target=\"_parent\"><img src=\"https://colab.research.google.com/assets/colab-badge.svg\" alt=\"Open In Colab\"/></a>"
      ]
    },
    {
      "cell_type": "code",
      "metadata": {
        "colab": {
          "base_uri": "https://localhost:8080/"
        },
        "id": "QR_RQvykTEA6",
        "outputId": "55339085-d628-486c-f5da-823cd5e8d4c1"
      },
      "source": [
        "pip install nltk"
      ],
      "execution_count": null,
      "outputs": [
        {
          "output_type": "stream",
          "text": [
            "Requirement already satisfied: nltk in /usr/local/lib/python3.7/dist-packages (3.2.5)\n",
            "Requirement already satisfied: six in /usr/local/lib/python3.7/dist-packages (from nltk) (1.15.0)\n"
          ],
          "name": "stdout"
        }
      ]
    },
    {
      "cell_type": "code",
      "metadata": {
        "id": "pnsEoyFtTWId"
      },
      "source": [
        "pip install newspaper3k"
      ],
      "execution_count": null,
      "outputs": []
    },
    {
      "cell_type": "code",
      "metadata": {
        "colab": {
          "base_uri": "https://localhost:8080/"
        },
        "id": "GbL-JfWSTd6-",
        "outputId": "4218bcf2-e5b4-4b1b-910a-f3e25e1090ab"
      },
      "source": [
        "# Importer les packages\n",
        "import nltk\n",
        "from newspaper import Article\n",
        "nltk.download('punkt')"
      ],
      "execution_count": null,
      "outputs": [
        {
          "output_type": "stream",
          "text": [
            "[nltk_data] Downloading package punkt to /root/nltk_data...\n",
            "[nltk_data]   Package punkt is already up-to-date!\n"
          ],
          "name": "stdout"
        },
        {
          "output_type": "execute_result",
          "data": {
            "text/plain": [
              "True"
            ]
          },
          "metadata": {
            "tags": []
          },
          "execution_count": 28
        }
      ]
    },
    {
      "cell_type": "code",
      "metadata": {
        "id": "a97J0uuSUCyA"
      },
      "source": [
        "# Télécharger l'article\n",
        "url=\"https://www.20minutes.fr/sport/3022939-20210416-monte-carlo-rafael-nadal-elimine-andrey-rublev-quarts-finale\"\n",
        "article=Article(url)\n",
        "article.download()\n",
        "article.parse()"
      ],
      "execution_count": null,
      "outputs": []
    },
    {
      "cell_type": "code",
      "metadata": {
        "colab": {
          "base_uri": "https://localhost:8080/"
        },
        "id": "j9eUuUDXUV05",
        "outputId": "955f1015-c076-4489-ff3d-d737578a6bb8"
      },
      "source": [
        "# Acceder au titre de l'article\n",
        "print(article.title)"
      ],
      "execution_count": null,
      "outputs": [
        {
          "output_type": "stream",
          "text": [
            "Monte-Carlo : Rafael Nadal éliminé par Andrey Rublev en quarts de finale\n"
          ],
          "name": "stdout"
        }
      ]
    },
    {
      "cell_type": "code",
      "metadata": {
        "colab": {
          "base_uri": "https://localhost:8080/"
        },
        "id": "q8mlRjtYUp2M",
        "outputId": "a7c107b5-c8a9-40be-f082-e5578df44345"
      },
      "source": [
        "# Acceder à l'auteur\n",
        "print(article.authors)"
      ],
      "execution_count": null,
      "outputs": [
        {
          "output_type": "stream",
          "text": [
            "['Minutes Avec Afp']\n"
          ],
          "name": "stdout"
        }
      ]
    },
    {
      "cell_type": "code",
      "metadata": {
        "colab": {
          "base_uri": "https://localhost:8080/"
        },
        "id": "DWtcN1BYUmGT",
        "outputId": "942de699-d1fd-4224-c165-1a3db13cdbd8"
      },
      "source": [
        "# Acceder à la photo de l'article\n",
        "print(article.publish_date)"
      ],
      "execution_count": null,
      "outputs": [
        {
          "output_type": "stream",
          "text": [
            "2021-04-16 00:00:00\n"
          ],
          "name": "stdout"
        }
      ]
    },
    {
      "cell_type": "code",
      "metadata": {
        "colab": {
          "base_uri": "https://localhost:8080/",
          "height": 35
        },
        "id": "Nd3Gx5bNU6IR",
        "outputId": "cd64c086-1ce2-4f66-813c-45faa7e7f24a"
      },
      "source": [
        "# Acces à la photo de l'article\n",
        "article.top_image"
      ],
      "execution_count": null,
      "outputs": [
        {
          "output_type": "execute_result",
          "data": {
            "application/vnd.google.colaboratory.intrinsic+json": {
              "type": "string"
            },
            "text/plain": [
              "'https://img.20mn.fr/Tzl-2URiST6ZFuFDQ3KniQ/648x360_monte-carlo-rafael-nadal-elimine-par-andrey-rublev-en-quarts-de-finale.jpg'"
            ]
          },
          "metadata": {
            "tags": []
          },
          "execution_count": 24
        }
      ]
    },
    {
      "cell_type": "code",
      "metadata": {
        "colab": {
          "base_uri": "https://localhost:8080/"
        },
        "id": "DrBBJHCyU8hR",
        "outputId": "abdc267c-f303-4b7d-fb71-06126cda4234"
      },
      "source": [
        "# acceder au texte\n",
        "print(article.text)"
      ],
      "execution_count": null,
      "outputs": [
        {
          "output_type": "stream",
          "text": [
            "TENNIS Andrey Rublev a assommé l'Espagnol 6-2, 4-6, 6-2 en quarts de finale du Masters 1000 de Monte-Carlo\n",
            "\n",
            "Monte-Carlo: Rafael Nadal éliminé par Andrey Rublev en quarts de finale — Jean-Francois Badias/AP/SIPA\n",
            "\n",
            "Rafael Nadal se disait « prêt et en confiance » avant d’attaquer la saison sur terre battue. Et nous, bah, on plaignait d’avance ses adversaires. Et pourtant : ce vendredi Andrey Rublev (8e mondial) a assommé l’Espagnol (3e) 6-2, 4-6, 6-2 en 2h32, en quarts de finale du Masters 1000 de Monte-Carlo. Rublev retrouvera Casper Ruud (27e) dans le dernier carré.\n",
            "\n",
            "Nadal ne s’est pas montré au sommet de son art, commettant de nombreuses fautes, mais il a souvent été pris par les coups violents et précis du Russe. Ce dernier jouera sa deuxième demi-finale de Masters 1000 après celle de Miami au début du mois.\n",
            "\n",
            "Medvedev, Djokovic et Nadal out\n",
            "\n",
            "« Pour lui, ça doit être incroyablement difficile de jouer avec cette pression de devoir toujours gagner. Je suis sous le choc de voir le niveau auquel il peut évoluer malgré cette pression. C’est beaucoup plus facile de jouer quand on n’a rien à perdre », a commenté Rublev.\n",
            "\n",
            "Après l’exclusion du N.2 mondial Daniil Medvedev pour un test positif au Covid-19 avant le début du tournoi, puis l’élimination du N.1 Novak Djokovic la veille en 8es de finale, Nadal est la troisième tête d’affiche à quitter le tournoi monégasque.\n",
            "\n",
            "L’Espagnol n’avait plus joué depuis l’Open d’Australie en février avant de s’aligner sur le tournoi monégasque qu’il a remporté à onze reprises.\n"
          ],
          "name": "stdout"
        }
      ]
    },
    {
      "cell_type": "code",
      "metadata": {
        "id": "kRmv4eo4VZY-"
      },
      "source": [
        "# réaliser un traitement de texte nlp\n",
        "article.nlp()"
      ],
      "execution_count": null,
      "outputs": []
    },
    {
      "cell_type": "code",
      "metadata": {
        "colab": {
          "base_uri": "https://localhost:8080/"
        },
        "id": "hhHybrBhWJIq",
        "outputId": "597e7917-df24-47a0-ef1a-fb9ec95f2898"
      },
      "source": [
        "# Résumé de l'article\n",
        "print(article.summary)"
      ],
      "execution_count": null,
      "outputs": [
        {
          "output_type": "stream",
          "text": [
            "TENNIS Andrey Rublev a assommé l'Espagnol 6-2, 4-6, 6-2 en quarts de finale du Masters 1000 de Monte-CarloMonte-Carlo: Rafael Nadal éliminé par Andrey Rublev en quarts de finale — Jean-Francois Badias/AP/SIPARafael Nadal se disait « prêt et en confiance » avant d’attaquer la saison sur terre battue.\n",
            "Et pourtant : ce vendredi Andrey Rublev (8e mondial) a assommé l’Espagnol (3e) 6-2, 4-6, 6-2 en 2h32, en quarts de finale du Masters 1000 de Monte-Carlo.\n",
            "Medvedev, Djokovic et Nadal out« Pour lui, ça doit être incroyablement difficile de jouer avec cette pression de devoir toujours gagner.\n",
            "Après l’exclusion du N.2 mondial Daniil Medvedev pour un test positif au Covid-19 avant le début du tournoi, puis l’élimination du N.1 Novak Djokovic la veille en 8es de finale, Nadal est la troisième tête d’affiche à quitter le tournoi monégasque.\n",
            "L’Espagnol n’avait plus joué depuis l’Open d’Australie en février avant de s’aligner sur le tournoi monégasque qu’il a remporté à onze reprises.\n"
          ],
          "name": "stdout"
        }
      ]
    },
    {
      "cell_type": "code",
      "metadata": {
        "id": "S_WHajrVWQRq"
      },
      "source": [
        ""
      ],
      "execution_count": null,
      "outputs": []
    }
  ]
}